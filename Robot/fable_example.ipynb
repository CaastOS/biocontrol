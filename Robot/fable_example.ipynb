{
 "cells": [
  {
   "cell_type": "code",
   "execution_count": 1,
   "metadata": {},
   "outputs": [],
   "source": [
    "from FableAPI.fable_init import api\n",
    "import time\n",
    "import sys\n",
    "\n",
    "def find_modules():\n",
    "    \"\"\"Discover modules and return the first moduleID (or None).\"\"\"\n",
    "    moduleids = api.discoverModules()\n",
    "    if not moduleids:\n",
    "        return None\n",
    "    return moduleids"
   ]
  },
  {
   "cell_type": "code",
   "execution_count": 2,
   "metadata": {},
   "outputs": [
    {
     "name": "stdout",
     "output_type": "stream",
     "text": [
      "PORT: COM3, NAME: Standard Serial over Bluetooth link (COM3), HWID: BTHENUM\\{00001101-0000-1000-8000-00805F9B34FB}_LOCALMFG&0000\\7&9E02D8F&0&000000000000_00000000\n",
      "PORT: COM4, NAME: Standard Serial over Bluetooth link (COM4), HWID: BTHENUM\\{00001101-0000-1000-8000-00805F9B34FB}_LOCALMFG&0002\\7&9E02D8F&0&AC122FDB24CE_C00000000\n",
      "PORT: COM5, NAME: USB Serial Device (COM5), HWID: USB VID:PID=03EB:FABE SER= LOCATION=1-1\n",
      "Trying to connect COM5 dongle connect: True\n",
      "Dongle...success\n",
      "setup done\n",
      "Runtime Created QLQ \n",
      "Runtime Created LR7 \n"
     ]
    }
   ],
   "source": [
    "# Setup (blocking=True will wait for a dongle)\n",
    "api.setup(blocking=True)\n",
    "\n",
    "# Find module (or ask the user)\n",
    "moduleIDs = find_modules()"
   ]
  },
  {
   "cell_type": "code",
   "execution_count": 3,
   "metadata": {},
   "outputs": [
    {
     "data": {
      "text/plain": [
       "['QLQ ', 'LR7 ']"
      ]
     },
     "execution_count": 3,
     "metadata": {},
     "output_type": "execute_result"
    }
   ],
   "source": [
    "moduleIDs"
   ]
  },
  {
   "cell_type": "code",
   "execution_count": 4,
   "metadata": {},
   "outputs": [],
   "source": [
    "wheels = 'QLQ'\n",
    "arm = 'LR7'"
   ]
  },
  {
   "cell_type": "code",
   "execution_count": 5,
   "metadata": {},
   "outputs": [
    {
     "name": "stdout",
     "output_type": "stream",
     "text": [
      "Using module: QLQ\n"
     ]
    },
    {
     "name": "stdout",
     "output_type": "stream",
     "text": [
      "Help!!!, throw away= b'#\\x03\\x04\\xceS'\n"
     ]
    }
   ],
   "source": [
    "### WHEELS\n",
    "print(\"Using module:\", wheels)\n",
    "\n",
    "try:\n",
    "    # Turn the light on\n",
    "    api.setSpinHeadlight('on', wheels, 100)\n",
    "\n",
    "    # Spin on itself\n",
    "    api.setSpinSpeed(-30, 30, wheels)\n",
    "\n",
    "    # Let it spin for 2 seconds\n",
    "    api.wait(1.0)\n",
    "\n",
    "    # Go 0.5 meters forward\n",
    "    # api.setSpinDriveDistance(0.5, 4, moduleID)\n",
    "\n",
    "    # Stop the robot (both speeds to 0)\n",
    "    api.setSpinSpeed(0, 0, wheels)\n",
    "\n",
    "    # Turn the light off\n",
    "    api.setSpinHeadlight('off', wheels, 0)\n",
    "\n",
    "except Exception as e:\n",
    "    print(\"Error while controlling module:\", e)\n",
    "\n",
    "finally:\n",
    "    # 6) Terminate connection (puts modules to default state)\n",
    "    api.terminate()"
   ]
  },
  {
   "cell_type": "code",
   "execution_count": 6,
   "metadata": {},
   "outputs": [
    {
     "name": "stdout",
     "output_type": "stream",
     "text": [
      "Using module: LR7\n"
     ]
    },
    {
     "name": "stdout",
     "output_type": "stream",
     "text": [
      "Help!!!, throw away= b'\\x03\\x04\\xceSS'\n"
     ]
    }
   ],
   "source": [
    "### ARM\n",
    "print(\"Using module:\", arm)\n",
    "\n",
    "try:\n",
    "    for i in range(80):\n",
    "        api.setPos(-i, 0, arm)\n",
    "        time.sleep(0.03)\n",
    "\n",
    "    for i in range(80, -1, -1):\n",
    "        api.setPos(-i, 0, arm)\n",
    "        time.sleep(0.01)\n",
    "except Exception as e:\n",
    "    print(\"Error while controlling module:\", e)\n",
    "finally:\n",
    "    # 6) Terminate connection (puts modules to default state)\n",
    "    api.terminate()"
   ]
  },
  {
   "cell_type": "code",
   "execution_count": null,
   "metadata": {},
   "outputs": [],
   "source": [
    "# Get color\n",
    "# color = []\n",
    "# color.append(api.getSensorR('1', moduleID))\n",
    "# color.append(api.getSensorG('1', moduleID))\n",
    "# color.append(api.getSensorB('1', moduleID))\n",
    "# print(\"Color detected:\", color)"
   ]
  }
 ],
 "metadata": {
  "kernelspec": {
   "display_name": "base",
   "language": "python",
   "name": "python3"
  },
  "language_info": {
   "codemirror_mode": {
    "name": "ipython",
    "version": 3
   },
   "file_extension": ".py",
   "mimetype": "text/x-python",
   "name": "python",
   "nbconvert_exporter": "python",
   "pygments_lexer": "ipython3",
   "version": "3.12.3"
  }
 },
 "nbformat": 4,
 "nbformat_minor": 2
}
